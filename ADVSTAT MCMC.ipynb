{
 "cells": [
  {
   "cell_type": "markdown",
   "metadata": {},
   "source": [
    "# ADVSTAT MCMC\n",
    "\n",
    "Using Metropolis Hastings Algorithm\n"
   ]
  },
  {
   "cell_type": "code",
   "execution_count": 2,
   "metadata": {
    "collapsed": true
   },
   "outputs": [],
   "source": [
    "import numpy as np\n",
    "import matplotlib.pyplot as plt\n",
    "import csv\n",
    "%matplotlib inline\n"
   ]
  },
  {
   "cell_type": "code",
   "execution_count": 92,
   "metadata": {
    "scrolled": false
   },
   "outputs": [
    {
     "data": {
      "image/png": "[encoded data removed]",
      "text/plain": [
       "<matplotlib.figure.Figure at 0x9b140f0>"
      ]
     },
     "metadata": {},
     "output_type": "display_data"
    }
   ],
   "source": [
    "posterior = 0\n",
    "prior = 0\n",
    "#create rand variable \n",
    "financials = []\n",
    "industrials = []\n",
    "holfirms = []\n",
    "propty = []\n",
    "services = []\n",
    "minoil = []\n",
    "xaxis = []\n",
    "xnum = 0\n",
    "data = [1, 2, 3, 4, 5, 6, 7, 8, 9, 10]\n",
    "with open('stock.csv') as csvfile:\n",
    "    readCSV = csv.reader(csvfile, delimiter=',')\n",
    "    for row in readCSV:\n",
    "        financials.append(row[0])\n",
    "        industrials.append(row[1])\n",
    "        holfirms.append(row[2])\n",
    "        propty.append(row[3])\n",
    "        services.append(row[4])\n",
    "        minoil.append(row[5])\n",
    "        xaxis.append(xnum)\n",
    "        xnum = xnum + 1\n",
    "        #print(row[0])\n",
    "        \n",
    "\n",
    "        \n",
    "#plt.figure(figsize=(20,50))\n",
    "plt.plot(xaxis, financials)\n",
    "plt.title('Financial')\n",
    "plt.yticks([])\n",
    "plt.axis([0, 143, 0, 143])\n",
    "plt.show()\n",
    "\n",
    "plt.plot(xaxis, financials)\n",
    "plt.title('Industrial')\n",
    "plt.yticks([])\n",
    "plt.axis([0, 143, 0, 143])\n",
    "plt.show()\n",
    "\n",
    "plt.plot(xaxis, financials)\n",
    "plt.title('Financial')\n",
    "plt.yticks([])\n",
    "plt.axis([0, 143, 0, 143])\n",
    "plt.show()\n",
    "\n",
    "plt.plot(xaxis, financials)\n",
    "plt.title('Financial')\n",
    "plt.yticks([])\n",
    "plt.axis([0, 143, 0, 143])\n",
    "plt.show()\n",
    "\n",
    "\n",
    "\n"
   ]
  },
  {
   "cell_type": "code",
   "execution_count": null,
   "metadata": {
    "collapsed": true
   },
   "outputs": [],
   "source": []
  }
 ],
 "metadata": {
  "kernelspec": {
   "display_name": "Python 2",
   "language": "python",
   "name": "python2"
  },
  "language_info": {
   "codemirror_mode": {
    "name": "ipython",
    "version": 2
   },
   "file_extension": ".py",
   "mimetype": "text/x-python",
   "name": "python",
   "nbconvert_exporter": "python",
   "pygments_lexer": "ipython2",
   "version": "2.7.14"
  }
 },
 "nbformat": 4,
 "nbformat_minor": 2
}
